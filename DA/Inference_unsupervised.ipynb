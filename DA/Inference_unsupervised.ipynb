{
  "nbformat": 4,
  "nbformat_minor": 0,
  "metadata": {
    "colab": {
      "provenance": [],
      "collapsed_sections": [
        "riveLmlYVXSZ"
      ]
    },
    "kernelspec": {
      "name": "python3",
      "display_name": "Python 3"
    },
    "language_info": {
      "name": "python"
    }
  },
  "cells": [
    {
      "cell_type": "markdown",
      "source": [
        "# model"
      ],
      "metadata": {
        "id": "riveLmlYVXSZ"
      }
    },
    {
      "cell_type": "code",
      "source": [
        "import numpy as np\n",
        "import pandas as pd\n",
        "from sklearn.cluster import MeanShift\n",
        "from sklearn.linear_model import LinearRegression\n",
        "from sklearn.preprocessing import StandardScaler\n",
        "from sklearn.metrics import mean_squared_error, f1_score\n",
        "from scipy.stats import ks_2samp\n",
        "from sklearn.tree import DecisionTreeClassifier\n",
        "from sklearn.ensemble import IsolationForest\n",
        "from sklearn.svm import OneClassSVM\n",
        "from sklearn.neighbors import LocalOutlierFactor\n",
        "from sklearn.cluster import DBSCAN\n",
        "#from skmultiflow.drift_detection import ADWIN\n",
        "from xgboost import XGBClassifier\n",
        "import logging\n",
        "\n",
        "\n",
        "# Настройка логирования\n",
        "logging.basicConfig(level=logging.INFO, format='%(asctime)s - %(levelname)s - %(message)s')\n",
        "\n",
        "class TSTrendDetection:\n",
        "    def __init__(self, bandwidth=1.0, adwin_delta=0.002):\n",
        "        self.bandwidth = bandwidth\n",
        "        self.mean_shift = MeanShift(bandwidth=self.bandwidth)\n",
        "        self.scaler = StandardScaler()\n",
        "#        self.adwin = {}  # ADWIN для каждой статистики\n",
        "        self.available_stats = ['alpha', 'variance', 'mse', 'amplitude']\n",
        "        self.classifier = None  # Для хранения обученной модели классификации\n",
        "\n",
        "    def fit_mean_shift(self, X, use_clustering=True, stats_to_extract=[\"alpha\"]):\n",
        "        \"\"\"\n",
        "        Mean Shift model fitting with optional clustering and flexible statistics.\n",
        "        \"\"\"\n",
        "        X = X.copy()\n",
        "\n",
        "        if isinstance(X, pd.DataFrame):\n",
        "            X.time = X.time.dt.total_seconds()\n",
        "            X = X[['time', 'value']].values\n",
        "        if not isinstance(X, np.ndarray):\n",
        "            raise ValueError(\"X must be np.ndarray or pd.DataFrame.\")\n",
        "\n",
        "        if stats_to_extract is None:\n",
        "            stats_to_extract = self.available_stats\n",
        "        else:\n",
        "            stats_to_extract = [s for s in stats_to_extract if s in self.available_stats]\n",
        "            if not stats_to_extract:\n",
        "                raise ValueError(\"No valid statistics specified.\")\n",
        "\n",
        "        # # Инициализация ADWIN для новых статистик\n",
        "        # for stat in stats_to_extract:\n",
        "        #     if stat not in self.adwin:\n",
        "        #         self.adwin[stat] = ADWIN(delta=0.002)\n",
        "\n",
        "        scaler = self.scaler\n",
        "        X_scaled = scaler.fit_transform(X)\n",
        "\n",
        "        if use_clustering:\n",
        "            self.mean_shift.fit(X_scaled)\n",
        "            labels = self.mean_shift.labels_\n",
        "        else:\n",
        "            labels = np.zeros(X.shape[0], dtype=int)\n",
        "\n",
        "        clusters = np.unique(labels)\n",
        "        clustered_ts_values = dict()\n",
        "        clustered_ts_times = dict()\n",
        "        clustered_stats = dict()\n",
        "\n",
        "        for cluster in clusters:\n",
        "            clustered_series = X[np.where(labels == cluster)]\n",
        "            times, values, stats = self._fit_linear_regression(clustered_series, stats_to_extract)\n",
        "\n",
        "            clustered_ts_values[cluster] = values\n",
        "            clustered_ts_times[cluster] = times\n",
        "            clustered_stats[cluster] = stats\n",
        "\n",
        "        return (X, labels, clustered_ts_times, clustered_ts_values, clustered_stats)\n",
        "\n",
        "    def _fit_linear_regression(self, clustered_series, stats_to_extract):\n",
        "        \"\"\"\n",
        "        Fit linear regression and compute selected statistics for a cluster.\n",
        "        \"\"\"\n",
        "        model = LinearRegression()\n",
        "        X_time = clustered_series[:, 0].reshape(-1, 1)\n",
        "        y_values = clustered_series[:, 1].reshape(-1, 1)\n",
        "        model.fit(X_time, y_values)\n",
        "\n",
        "        clustered_ts_value = model.predict(X_time)\n",
        "        clustered_ts_time = clustered_series[:, 0]\n",
        "\n",
        "        stats = {}\n",
        "        if 'alpha' in stats_to_extract:\n",
        "            stats['alpha'] = model.coef_[0][0]\n",
        "        if 'variance' in stats_to_extract:\n",
        "            stats['variance'] = np.var(clustered_series[:, 1]) if len(clustered_series) > 1 else 0.0\n",
        "        if 'mse' in stats_to_extract:\n",
        "            stats['mse'] = mean_squared_error(y_values, clustered_ts_value)\n",
        "        if 'amplitude' in stats_to_extract:\n",
        "            stats['amplitude'] = np.max(clustered_series[:, 1]) - np.min(clustered_series[:, 1])\n",
        "\n",
        "        return clustered_ts_time, clustered_ts_value, stats\n",
        "\n",
        "    def predict(self, context, model_input, params=None):\n",
        "        \"\"\"\n",
        "        Prediction method using multiple statistics thresholds.\n",
        "        \"\"\"\n",
        "        X, thresholds = model_input\n",
        "        _, _, _, _, clustered_stats = self.fit_mean_shift(X, stats_to_extract=list(thresholds.keys()))\n",
        "\n",
        "        anomalies = []\n",
        "        for cluster_stats in clustered_stats.values():\n",
        "            anomaly = False\n",
        "            for stat_name, threshold in thresholds.items():\n",
        "                if stat_name in cluster_stats and cluster_stats[stat_name] > threshold:\n",
        "                    anomaly = True\n",
        "                    break\n",
        "            anomalies.append(anomaly)\n",
        "        return np.array(anomalies, dtype=int)\n",
        "\n",
        "    def downsample(self, X, smoothing_window=None, skip_window=None):\n",
        "        \"\"\"\n",
        "        Method for time series downsampling.\n",
        "        \"\"\"\n",
        "        if not isinstance(X, pd.DataFrame):\n",
        "            raise ValueError(\"Time series must be a pd.DataFrame.\")\n",
        "        X = X.copy()\n",
        "        if smoothing_window is not None:\n",
        "            X.value = X.value.rolling(window=smoothing_window, min_periods=1).median()\n",
        "\n",
        "        if skip_window is not None:\n",
        "            X.index = X.time\n",
        "            X = X.value.resample(skip_window).median().fillna(0)\n",
        "            X = pd.DataFrame({'time': X.index, 'value': X.values})\n",
        "        return X\n",
        "\n",
        "    def evaluate_thresholds(self, stats_matrix, labels, stats_names):\n",
        "        \"\"\"\n",
        "        Find optimal thresholds for each statistic column using Decision Tree.\n",
        "\n",
        "        Parameters\n",
        "        ----------\n",
        "        stats_matrix: np.ndarray\n",
        "            Matrix where columns are statistics and rows are observations.\n",
        "        labels: np.ndarray\n",
        "            Labeled anomalies: 1 if anomaly, 0 otherwise.\n",
        "        stats_names: list\n",
        "            Names of statistics corresponding to columns in stats_matrix.\n",
        "\n",
        "        Returns\n",
        "        -------\n",
        "        np.ndarray\n",
        "            Array of thresholds, one for each column in stats_matrix.\n",
        "        \"\"\"\n",
        "        stats_matrix = np.array(stats_matrix)\n",
        "        labels = np.array(labels)\n",
        "\n",
        "        if (labels == 1).all():\n",
        "            return np.min(stats_matrix, axis=0)\n",
        "        if (labels == 0).all():\n",
        "            return np.max(stats_matrix, axis=0)\n",
        "\n",
        "        # Проверки входных данных\n",
        "        if len(stats_names) != stats_matrix.shape[1]:\n",
        "            raise ValueError(\"stats_names must match the number of columns in stats_matrix.\")\n",
        "        if stats_matrix.shape[0] != len(labels):\n",
        "            raise ValueError(\"Number of rows in stats_matrix must match length of labels.\")\n",
        "        if stats_matrix.shape[0] < 2:\n",
        "            logging.warning(\"Too few observations, returning median thresholds\")\n",
        "            return np.array([np.median(stats_matrix[:, i]) for i in range(stats_matrix.shape[1])])\n",
        "\n",
        "        thresholds = []\n",
        "        for col_idx, stat_name in enumerate(stats_names):\n",
        "            values = stats_matrix[:, col_idx]\n",
        "\n",
        "            # Обучение решающего дерева\n",
        "            X = values.reshape(-1, 1)\n",
        "            y = labels\n",
        "            clf = DecisionTreeClassifier(max_depth=1, class_weight='balanced', random_state=42)\n",
        "            clf.fit(X, y)\n",
        "\n",
        "            # Извлечение порога из корневого узла\n",
        "            if clf.tree_.node_count > 1:  # Проверка, что дерево имеет разделение\n",
        "                threshold = clf.tree_.threshold[0]  # Порог корневого узла\n",
        "\n",
        "                if threshold == -2:  # -2 означает отсутствие разделения\n",
        "                    logging.warning(f\"No valid split for {stat_name}, using median\")\n",
        "                    threshold = np.median(values)\n",
        "            else:\n",
        "                logging.warning(f\"No split in tree for {stat_name}, using median\")\n",
        "                threshold = np.median(values)\n",
        "\n",
        "            # Ограничение порога\n",
        "            threshold = np.clip(threshold, np.min(values), np.max(values))\n",
        "\n",
        "            # Оценка F1\n",
        "            predictions = (values > threshold).astype(int)\n",
        "            f1 = f1_score(labels, predictions)\n",
        "            logging.info(f\"Threshold for {stat_name}: {threshold:.6f}, F1 score: {f1:.4f}\")\n",
        "            thresholds.append(threshold)\n",
        "\n",
        "        return np.array(thresholds)\n",
        "\n",
        "    def train_anomaly_classifier(self, stats_values, labels, classifier_params=None):\n",
        "        \"\"\"\n",
        "        Train an XGBoost classifier to detect anomalies based on statistics.\n",
        "        \"\"\"\n",
        "\n",
        "        default_params = {\n",
        "            'max_depth': 3,\n",
        "            'learning_rate': 0.1,\n",
        "            'n_estimators': 100,\n",
        "            'scale_pos_weight': 5.0,\n",
        "            'random_state': 42\n",
        "        }\n",
        "        if classifier_params:\n",
        "            default_params.update(classifier_params)\n",
        "\n",
        "        self.classifier = XGBClassifier(**default_params)\n",
        "        self.classifier.fit(stats_values, labels)\n",
        "        logging.info(\"Anomaly classifier trained successfully\")\n",
        "\n",
        "\n",
        "    def predict_anomaly_classifier(self, stats_values):\n",
        "        \"\"\"\n",
        "        Predict anomalies using the trained classifier.\n",
        "        \"\"\"\n",
        "        if self.classifier is None:\n",
        "            logging.warning(\"No trained classifier available, returning zeros\")\n",
        "\n",
        "        predictions = self.classifier.predict(stats_values)\n",
        "        logging.info(f\"Predicted {np.sum(predictions)} anomalies out of {len(predictions)} samples\")\n",
        "        return predictions\n",
        "\n",
        "    def detect_stats_drift(self, stats_matrix, new_stats_matrix, stats_names, window_size=100, drift_threshold=2.0, ks_pvalue=0.05):\n",
        "        \"\"\"\n",
        "        Detect drift in the distribution of statistics between historical and new data.\n",
        "\n",
        "        Parameters\n",
        "        ----------\n",
        "        stats_matrix: np.ndarray\n",
        "            Historical statistics matrix (rows: observations, columns: stats).\n",
        "        new_stats_matrix: np.ndarray\n",
        "            New statistics matrix (rows: observations, columns: stats).\n",
        "        stats_names: list\n",
        "            Names of statistics corresponding to columns in stats_matrix.\n",
        "        window_size: int\n",
        "            Size of the historical window to consider.\n",
        "        drift_threshold: float\n",
        "            Z-score threshold for drift detection.\n",
        "        ks_pvalue: float\n",
        "            P-value threshold for KS test.\n",
        "\n",
        "        Returns\n",
        "        -------\n",
        "        dict\n",
        "            Dictionary with drift detection results for each statistic.\n",
        "        \"\"\"\n",
        "        stats_matrix = np.array(stats_matrix)\n",
        "        new_stats_matrix = np.array(new_stats_matrix)\n",
        "\n",
        "        if len(stats_names) != stats_matrix.shape[1] or len(stats_names) != new_stats_matrix.shape[1]:\n",
        "            raise ValueError(\"stats_names must match the number of columns in stats_matrix and new_stats_matrix.\")\n",
        "        if stats_matrix.shape[0] < window_size or new_stats_matrix.shape[0] < 10:\n",
        "            logging.info(\"Insufficient data for drift detection\")\n",
        "            return {stat_name: {'drift_detected': False, 'stats': {}} for stat_name in stats_names}\n",
        "\n",
        "        results = {}\n",
        "        for col_idx, stat_name in enumerate(stats_names):\n",
        "            historical_values = stats_matrix[-window_size:, col_idx] if stats_matrix.shape[0] > window_size else stats_matrix[:, col_idx]\n",
        "            new_values = new_stats_matrix[:, col_idx]\n",
        "\n",
        "            current_mean = np.mean(new_values)\n",
        "            current_std = np.std(new_values) if len(new_values) > 1 else 0.0\n",
        "            historical_mean = np.mean(historical_values)\n",
        "            historical_std = np.std(historical_values) if len(historical_values) > 1 else 0.0\n",
        "\n",
        "            drift_detected = False\n",
        "            stats = {\n",
        "                'current_mean': current_mean,\n",
        "                'current_std': current_std,\n",
        "                'historical_mean': historical_mean,\n",
        "                'historical_std': historical_std\n",
        "            }\n",
        "\n",
        "\n",
        "            if historical_std > 0:\n",
        "                z_score = abs(current_mean - historical_mean) / historical_std\n",
        "                if z_score > drift_threshold:\n",
        "                    ks_stat, p_value = ks_2samp(historical_values, new_values)\n",
        "                    if p_value < ks_pvalue:\n",
        "                        drift_detected = True\n",
        "                        logging.info(f\"Drift detected for {stat_name}: z-score={z_score:.2f}, KS p-value={p_value:.4f}\")\n",
        "                    else:\n",
        "                        logging.info(f\"Drift not confirmed for {stat_name}: p-value={p_value:.4f}\")\n",
        "                else:\n",
        "                    logging.info(f\"No significant drift for {stat_name}: z-score={z_score:.2f}\")\n",
        "            else:\n",
        "                logging.warning(f\"Historical std is zero for {stat_name}, skipping z-score check\")\n",
        "\n",
        "            results[stat_name] = {\n",
        "                'drift_detected': drift_detected,\n",
        "                'stats': stats\n",
        "            }\n",
        "\n",
        "        return results\n",
        "\n",
        "    def detect_stats_drift_adwin(self, stats_matrix, new_stats_matrix, stats_names):\n",
        "        \"\"\"\n",
        "        Detect drift in statistics using ADWIN.\n",
        "\n",
        "        Parameters\n",
        "        ----------\n",
        "        stats_matrix: np.ndarray\n",
        "            Historical statistics matrix (rows: observations, columns: stats).\n",
        "        new_stats_matrix: np.ndarray\n",
        "            New statistics matrix (rows: observations, columns: stats).\n",
        "        stats_names: list\n",
        "            Names of statistics corresponding to columns in stats_matrix.\n",
        "\n",
        "        Returns\n",
        "        -------\n",
        "        dict\n",
        "            Dictionary with drift detection results for each statistic.\n",
        "        \"\"\"\n",
        "        stats_matrix = np.array(stats_matrix)\n",
        "        new_stats_matrix = np.array(new_stats_matrix)\n",
        "\n",
        "        if len(stats_names) != stats_matrix.shape[1] or len(stats_names) != new_stats_matrix.shape[1]:\n",
        "            raise ValueError(\"stats_names must match the number of columns in stats_matrix and new_stats_matrix.\")\n",
        "        if new_stats_matrix.shape[0] < 1:\n",
        "            logging.info(\"No new data provided for ADWIN drift detection\")\n",
        "            return {stat_name: {'drift_detected': False, 'stats': {}} for stat_name in stats_names}\n",
        "\n",
        "        results = {}\n",
        "        for col_idx, stat_name in enumerate(stats_names):\n",
        "            new_values = new_stats_matrix[:, col_idx]\n",
        "            drift_detected = False\n",
        "            stats = {\n",
        "                'current_mean': np.mean(new_values) if len(new_values) > 0 else 0.0,\n",
        "                'n_values': len(new_values)\n",
        "            }\n",
        "\n",
        "            if stat_name not in self.adwin:\n",
        "                self.adwin[stat_name] = ADWIN(delta=0.002)\n",
        "\n",
        "            # Добавляем исторические данные в ADWIN\n",
        "            historical_values = stats_matrix[:, col_idx]\n",
        "            for value in historical_values:\n",
        "                self.adwin[stat_name].add_element(value)\n",
        "\n",
        "            # Проверяем новые данные\n",
        "            for value in new_values:\n",
        "                self.adwin[stat_name].add_element(value)\n",
        "                if self.adwin[stat_name].detected_change():\n",
        "                    drift_detected = True\n",
        "                    logging.info(f\"ADWIN drift detected for {stat_name} at value={value:.4f}, window size={self.adwin[stat_name].width}\")\n",
        "\n",
        "            stats['adwin_window_size'] = self.adwin[stat_name].width\n",
        "            stats['adwin_mean'] = self.adwin[stat_name].estimation\n",
        "            stats['drift_detected'] = drift_detected\n",
        "\n",
        "            results[stat_name] = {\n",
        "                'drift_detected': drift_detected,\n",
        "                'stats': stats\n",
        "            }\n",
        "\n",
        "        return results\n",
        "\n",
        "    def detect_anomalies(self, stats_matrix, new_stats_matrix, stats_names = None, method='isolation_forest', contamination=0.1, **kwargs):\n",
        "        \"\"\"\n",
        "        Detect anomalies in new_stats_matrix using SOTA anomaly detection methods.\n",
        "\n",
        "        Parameters\n",
        "        ----------\n",
        "        stats_matrix: np.ndarray\n",
        "            Historical statistics matrix (rows: observations, columns: stats).\n",
        "        new_stats_matrix: np.ndarray\n",
        "            New statistics matrix (rows: observations, columns: stats).\n",
        "        stats_names: list\n",
        "            Names of statistics corresponding to columns in stats_matrix.\n",
        "        method: str\n",
        "            Anomaly detection method: 'isolation_forest', 'one_class_svm', 'lof', 'dbscan'.\n",
        "        contamination: float\n",
        "            Expected proportion of anomalies (0.0 to 0.5).\n",
        "        **kwargs: dict\n",
        "            Additional parameters for the chosen method.\n",
        "\n",
        "        Returns\n",
        "        -------\n",
        "        dict\n",
        "            Dictionary with:\n",
        "            - 'anomalies': np.ndarray of bools (True for anomalies in new_stats_matrix).\n",
        "            - 'stats': dict with method-specific statistics.\n",
        "        \"\"\"\n",
        "        stats_matrix = np.array(stats_matrix)\n",
        "        new_stats_matrix = np.array(new_stats_matrix)\n",
        "\n",
        "        if stats_names:\n",
        "            if len(stats_names) != stats_matrix.shape[1] or len(stats_names) != new_stats_matrix.shape[1]:\n",
        "                raise ValueError(\"stats_names must match the number of columns in stats_matrix and new_stats_matrix.\")\n",
        "        if new_stats_matrix.shape[0] < 5:\n",
        "            logging.warning(\"Too few observations in new_stats_matrix, returning no anomalies\")\n",
        "            return {\n",
        "                'anomalies': np.zeros(new_stats_matrix.shape[0], dtype=bool),\n",
        "                'stats': {'n_anomalies': 0}\n",
        "            }\n",
        "\n",
        "        # Нормализация данных\n",
        "        scaler = StandardScaler()\n",
        "        X_train_scaled = scaler.fit_transform(stats_matrix)\n",
        "        X_test_scaled = scaler.transform(new_stats_matrix)\n",
        "\n",
        "        # Выбор метода детекции\n",
        "        if method == 'isolation_forest':\n",
        "            model = IsolationForest(\n",
        "                contamination=contamination,\n",
        "                random_state=42,\n",
        "                **kwargs\n",
        "            )\n",
        "            model.fit(X_train_scaled)\n",
        "            predictions = model.predict(X_test_scaled)\n",
        "            anomalies = predictions == -1\n",
        "\n",
        "        elif method == 'one_class_svm':\n",
        "            model = OneClassSVM(\n",
        "                nu=contamination,\n",
        "                kernel='rbf',\n",
        "                **kwargs\n",
        "            )\n",
        "            model.fit(X_train_scaled)\n",
        "            predictions = model.predict(X_test_scaled)\n",
        "            anomalies = predictions == -1\n",
        "\n",
        "        elif method == 'lof':\n",
        "            model = LocalOutlierFactor(\n",
        "                n_neighbors=min(20, new_stats_matrix.shape[0] - 1),\n",
        "                contamination=contamination,\n",
        "                novelty=True,\n",
        "                **kwargs\n",
        "            )\n",
        "            model.fit(X_train_scaled)\n",
        "            predictions = model.predict(X_test_scaled)\n",
        "            anomalies = predictions == -1\n",
        "\n",
        "        elif method == 'dbscan':\n",
        "            model = DBSCAN(\n",
        "                eps=kwargs.get('eps', 0.5),\n",
        "                min_samples=kwargs.get('min_samples', 5),\n",
        "                **kwargs\n",
        "            )\n",
        "            predictions = model.fit_predict(X_test_scaled)\n",
        "            anomalies = predictions == -1\n",
        "\n",
        "        else:\n",
        "            raise ValueError(f\"Unsupported method: {method}\")\n",
        "\n",
        "        # Статистики\n",
        "        n_anomalies = np.sum(anomalies)\n",
        "        stats = {\n",
        "            'n_anomalies': n_anomalies,\n",
        "            'method': method,\n",
        "            'contamination': contamination\n",
        "        }\n",
        "\n",
        "        # Логирование\n",
        "        logging.info(f\"Anomalies detected: {n_anomalies} out of {new_stats_matrix.shape[0]} samples using {method}\")\n",
        "\n",
        "        return {\n",
        "            'anomalies': anomalies,\n",
        "            'stats': stats\n",
        "        }"
      ],
      "metadata": {
        "id": "NK0d__neREhw"
      },
      "execution_count": 203,
      "outputs": []
    },
    {
      "cell_type": "markdown",
      "source": [
        "#Import"
      ],
      "metadata": {
        "id": "60G_S0EaVZcJ"
      }
    },
    {
      "cell_type": "code",
      "execution_count": 113,
      "metadata": {
        "id": "N2wnsmMeO1Ji"
      },
      "outputs": [],
      "source": [
        "import pandas as pd\n",
        "import numpy as np"
      ]
    },
    {
      "cell_type": "code",
      "execution_count": 2,
      "metadata": {
        "id": "nSQkRDAxd9zz"
      },
      "outputs": [],
      "source": [
        "DATAPAH = '/content/drive/MyDrive/Colab Notebooks/Uvelka/Data/'"
      ]
    },
    {
      "cell_type": "code",
      "execution_count": 3,
      "metadata": {
        "id": "WbQOg1-BdbuM"
      },
      "outputs": [],
      "source": [
        "raw_data = pd.read_csv(DATAPAH + 'sensor_data.csv', parse_dates=['timestamp'])"
      ]
    },
    {
      "cell_type": "code",
      "source": [
        "np.unique(raw_data.device.values)"
      ],
      "metadata": {
        "colab": {
          "base_uri": "https://localhost:8080/"
        },
        "id": "yb47a_Z4B9OP",
        "outputId": "c392193f-6a23-4484-e5f2-12fd15e011a8"
      },
      "execution_count": 4,
      "outputs": [
        {
          "output_type": "execute_result",
          "data": {
            "text/plain": [
              "array(['Токовый губки  Афл3.1', 'Токовый губки  Афл3.2',\n",
              "       'Токовый губки  Афл3.3', 'Токовый губки  Афл3.4',\n",
              "       'Токовый губки  Афл3.5', 'Токовый губки  Афл3.6',\n",
              "       'Токовый нипроллер  Афл3.1', 'Токовый нипроллер  Афл3.2',\n",
              "       'Токовый нипроллер  Афл3.3', 'Токовый нипроллер  Афл3.4',\n",
              "       'Токовый нипроллер  Афл3.5', 'Токовый нипроллер  Афл3.6',\n",
              "       'Токовый ремни  Афл3.1', 'Токовый ремни  Афл3.2',\n",
              "       'Токовый ремни  Афл3.3', 'Токовый ремни  Афл3.4',\n",
              "       'Токовый ремни  Афл3.5', 'Токовый ремни  Афл3.6'], dtype=object)"
            ]
          },
          "metadata": {},
          "execution_count": 4
        }
      ]
    },
    {
      "cell_type": "code",
      "execution_count": 5,
      "metadata": {
        "id": "8NWxRtY3fD5X"
      },
      "outputs": [],
      "source": [
        "df = raw_data[(raw_data.device == 'Токовый нипроллер  Афл3.1') & (raw_data.timestamp > \"2024-12-13 00:00:00\") & (raw_data.timestamp < \"2024-12-14 00:00:00\")].copy()"
      ]
    },
    {
      "cell_type": "markdown",
      "source": [
        "#Stage 1\n",
        "Сбор статистик"
      ],
      "metadata": {
        "id": "RsmfnYy1Ve9T"
      }
    },
    {
      "cell_type": "code",
      "execution_count": 206,
      "metadata": {
        "id": "Yf9oEzYh9E0O"
      },
      "outputs": [],
      "source": [
        "model = TSTrendDetection(bandwidth = 1.0)"
      ]
    },
    {
      "cell_type": "code",
      "execution_count": 8,
      "metadata": {
        "id": "c8B9-9zWqxIH"
      },
      "outputs": [],
      "source": [
        "df_input = pd.DataFrame()"
      ]
    },
    {
      "cell_type": "code",
      "execution_count": 9,
      "metadata": {
        "id": "Z8zdW7jWqxII"
      },
      "outputs": [],
      "source": [
        "df_input[['time','value']] = df[['timestamp','amperage']].copy()"
      ]
    },
    {
      "cell_type": "code",
      "execution_count": 76,
      "metadata": {
        "colab": {
          "base_uri": "https://localhost:8080/",
          "height": 363
        },
        "outputId": "5e8adc58-912d-408a-ac70-3636c6652c26",
        "id": "mlUvMCNYqxII"
      },
      "outputs": [
        {
          "output_type": "execute_result",
          "data": {
            "text/plain": [
              "                      time      value\n",
              "527028 2024-12-13 00:00:01   0.104239\n",
              "527041 2024-12-13 00:00:17  15.348526\n",
              "527054 2024-12-13 00:00:32  21.283280\n",
              "527067 2024-12-13 00:00:48   0.692127\n",
              "527081 2024-12-13 00:01:00   2.545637\n",
              "527094 2024-12-13 00:01:20   6.220177\n",
              "527108 2024-12-13 00:01:31   6.244355\n",
              "527121 2024-12-13 00:01:47   0.578613\n",
              "527134 2024-12-13 00:02:03   2.570428\n",
              "527147 2024-12-13 00:02:18   0.212109"
            ],
            "text/html": [
              "\n",
              "  <div id=\"df-5415a370-1312-432a-84be-805c051cda59\" class=\"colab-df-container\">\n",
              "    <div>\n",
              "<style scoped>\n",
              "    .dataframe tbody tr th:only-of-type {\n",
              "        vertical-align: middle;\n",
              "    }\n",
              "\n",
              "    .dataframe tbody tr th {\n",
              "        vertical-align: top;\n",
              "    }\n",
              "\n",
              "    .dataframe thead th {\n",
              "        text-align: right;\n",
              "    }\n",
              "</style>\n",
              "<table border=\"1\" class=\"dataframe\">\n",
              "  <thead>\n",
              "    <tr style=\"text-align: right;\">\n",
              "      <th></th>\n",
              "      <th>time</th>\n",
              "      <th>value</th>\n",
              "    </tr>\n",
              "  </thead>\n",
              "  <tbody>\n",
              "    <tr>\n",
              "      <th>527028</th>\n",
              "      <td>2024-12-13 00:00:01</td>\n",
              "      <td>0.104239</td>\n",
              "    </tr>\n",
              "    <tr>\n",
              "      <th>527041</th>\n",
              "      <td>2024-12-13 00:00:17</td>\n",
              "      <td>15.348526</td>\n",
              "    </tr>\n",
              "    <tr>\n",
              "      <th>527054</th>\n",
              "      <td>2024-12-13 00:00:32</td>\n",
              "      <td>21.283280</td>\n",
              "    </tr>\n",
              "    <tr>\n",
              "      <th>527067</th>\n",
              "      <td>2024-12-13 00:00:48</td>\n",
              "      <td>0.692127</td>\n",
              "    </tr>\n",
              "    <tr>\n",
              "      <th>527081</th>\n",
              "      <td>2024-12-13 00:01:00</td>\n",
              "      <td>2.545637</td>\n",
              "    </tr>\n",
              "    <tr>\n",
              "      <th>527094</th>\n",
              "      <td>2024-12-13 00:01:20</td>\n",
              "      <td>6.220177</td>\n",
              "    </tr>\n",
              "    <tr>\n",
              "      <th>527108</th>\n",
              "      <td>2024-12-13 00:01:31</td>\n",
              "      <td>6.244355</td>\n",
              "    </tr>\n",
              "    <tr>\n",
              "      <th>527121</th>\n",
              "      <td>2024-12-13 00:01:47</td>\n",
              "      <td>0.578613</td>\n",
              "    </tr>\n",
              "    <tr>\n",
              "      <th>527134</th>\n",
              "      <td>2024-12-13 00:02:03</td>\n",
              "      <td>2.570428</td>\n",
              "    </tr>\n",
              "    <tr>\n",
              "      <th>527147</th>\n",
              "      <td>2024-12-13 00:02:18</td>\n",
              "      <td>0.212109</td>\n",
              "    </tr>\n",
              "  </tbody>\n",
              "</table>\n",
              "</div>\n",
              "    <div class=\"colab-df-buttons\">\n",
              "\n",
              "  <div class=\"colab-df-container\">\n",
              "    <button class=\"colab-df-convert\" onclick=\"convertToInteractive('df-5415a370-1312-432a-84be-805c051cda59')\"\n",
              "            title=\"Convert this dataframe to an interactive table.\"\n",
              "            style=\"display:none;\">\n",
              "\n",
              "  <svg xmlns=\"http://www.w3.org/2000/svg\" height=\"24px\" viewBox=\"0 -960 960 960\">\n",
              "    <path d=\"M120-120v-720h720v720H120Zm60-500h600v-160H180v160Zm220 220h160v-160H400v160Zm0 220h160v-160H400v160ZM180-400h160v-160H180v160Zm440 0h160v-160H620v160ZM180-180h160v-160H180v160Zm440 0h160v-160H620v160Z\"/>\n",
              "  </svg>\n",
              "    </button>\n",
              "\n",
              "  <style>\n",
              "    .colab-df-container {\n",
              "      display:flex;\n",
              "      gap: 12px;\n",
              "    }\n",
              "\n",
              "    .colab-df-convert {\n",
              "      background-color: #E8F0FE;\n",
              "      border: none;\n",
              "      border-radius: 50%;\n",
              "      cursor: pointer;\n",
              "      display: none;\n",
              "      fill: #1967D2;\n",
              "      height: 32px;\n",
              "      padding: 0 0 0 0;\n",
              "      width: 32px;\n",
              "    }\n",
              "\n",
              "    .colab-df-convert:hover {\n",
              "      background-color: #E2EBFA;\n",
              "      box-shadow: 0px 1px 2px rgba(60, 64, 67, 0.3), 0px 1px 3px 1px rgba(60, 64, 67, 0.15);\n",
              "      fill: #174EA6;\n",
              "    }\n",
              "\n",
              "    .colab-df-buttons div {\n",
              "      margin-bottom: 4px;\n",
              "    }\n",
              "\n",
              "    [theme=dark] .colab-df-convert {\n",
              "      background-color: #3B4455;\n",
              "      fill: #D2E3FC;\n",
              "    }\n",
              "\n",
              "    [theme=dark] .colab-df-convert:hover {\n",
              "      background-color: #434B5C;\n",
              "      box-shadow: 0px 1px 3px 1px rgba(0, 0, 0, 0.15);\n",
              "      filter: drop-shadow(0px 1px 2px rgba(0, 0, 0, 0.3));\n",
              "      fill: #FFFFFF;\n",
              "    }\n",
              "  </style>\n",
              "\n",
              "    <script>\n",
              "      const buttonEl =\n",
              "        document.querySelector('#df-5415a370-1312-432a-84be-805c051cda59 button.colab-df-convert');\n",
              "      buttonEl.style.display =\n",
              "        google.colab.kernel.accessAllowed ? 'block' : 'none';\n",
              "\n",
              "      async function convertToInteractive(key) {\n",
              "        const element = document.querySelector('#df-5415a370-1312-432a-84be-805c051cda59');\n",
              "        const dataTable =\n",
              "          await google.colab.kernel.invokeFunction('convertToInteractive',\n",
              "                                                    [key], {});\n",
              "        if (!dataTable) return;\n",
              "\n",
              "        const docLinkHtml = 'Like what you see? Visit the ' +\n",
              "          '<a target=\"_blank\" href=https://colab.research.google.com/notebooks/data_table.ipynb>data table notebook</a>'\n",
              "          + ' to learn more about interactive tables.';\n",
              "        element.innerHTML = '';\n",
              "        dataTable['output_type'] = 'display_data';\n",
              "        await google.colab.output.renderOutput(dataTable, element);\n",
              "        const docLink = document.createElement('div');\n",
              "        docLink.innerHTML = docLinkHtml;\n",
              "        element.appendChild(docLink);\n",
              "      }\n",
              "    </script>\n",
              "  </div>\n",
              "\n",
              "\n",
              "<div id=\"df-f03a1976-b162-4635-b6d4-f3672b36dfe4\">\n",
              "  <button class=\"colab-df-quickchart\" onclick=\"quickchart('df-f03a1976-b162-4635-b6d4-f3672b36dfe4')\"\n",
              "            title=\"Suggest charts\"\n",
              "            style=\"display:none;\">\n",
              "\n",
              "<svg xmlns=\"http://www.w3.org/2000/svg\" height=\"24px\"viewBox=\"0 0 24 24\"\n",
              "     width=\"24px\">\n",
              "    <g>\n",
              "        <path d=\"M19 3H5c-1.1 0-2 .9-2 2v14c0 1.1.9 2 2 2h14c1.1 0 2-.9 2-2V5c0-1.1-.9-2-2-2zM9 17H7v-7h2v7zm4 0h-2V7h2v10zm4 0h-2v-4h2v4z\"/>\n",
              "    </g>\n",
              "</svg>\n",
              "  </button>\n",
              "\n",
              "<style>\n",
              "  .colab-df-quickchart {\n",
              "      --bg-color: #E8F0FE;\n",
              "      --fill-color: #1967D2;\n",
              "      --hover-bg-color: #E2EBFA;\n",
              "      --hover-fill-color: #174EA6;\n",
              "      --disabled-fill-color: #AAA;\n",
              "      --disabled-bg-color: #DDD;\n",
              "  }\n",
              "\n",
              "  [theme=dark] .colab-df-quickchart {\n",
              "      --bg-color: #3B4455;\n",
              "      --fill-color: #D2E3FC;\n",
              "      --hover-bg-color: #434B5C;\n",
              "      --hover-fill-color: #FFFFFF;\n",
              "      --disabled-bg-color: #3B4455;\n",
              "      --disabled-fill-color: #666;\n",
              "  }\n",
              "\n",
              "  .colab-df-quickchart {\n",
              "    background-color: var(--bg-color);\n",
              "    border: none;\n",
              "    border-radius: 50%;\n",
              "    cursor: pointer;\n",
              "    display: none;\n",
              "    fill: var(--fill-color);\n",
              "    height: 32px;\n",
              "    padding: 0;\n",
              "    width: 32px;\n",
              "  }\n",
              "\n",
              "  .colab-df-quickchart:hover {\n",
              "    background-color: var(--hover-bg-color);\n",
              "    box-shadow: 0 1px 2px rgba(60, 64, 67, 0.3), 0 1px 3px 1px rgba(60, 64, 67, 0.15);\n",
              "    fill: var(--button-hover-fill-color);\n",
              "  }\n",
              "\n",
              "  .colab-df-quickchart-complete:disabled,\n",
              "  .colab-df-quickchart-complete:disabled:hover {\n",
              "    background-color: var(--disabled-bg-color);\n",
              "    fill: var(--disabled-fill-color);\n",
              "    box-shadow: none;\n",
              "  }\n",
              "\n",
              "  .colab-df-spinner {\n",
              "    border: 2px solid var(--fill-color);\n",
              "    border-color: transparent;\n",
              "    border-bottom-color: var(--fill-color);\n",
              "    animation:\n",
              "      spin 1s steps(1) infinite;\n",
              "  }\n",
              "\n",
              "  @keyframes spin {\n",
              "    0% {\n",
              "      border-color: transparent;\n",
              "      border-bottom-color: var(--fill-color);\n",
              "      border-left-color: var(--fill-color);\n",
              "    }\n",
              "    20% {\n",
              "      border-color: transparent;\n",
              "      border-left-color: var(--fill-color);\n",
              "      border-top-color: var(--fill-color);\n",
              "    }\n",
              "    30% {\n",
              "      border-color: transparent;\n",
              "      border-left-color: var(--fill-color);\n",
              "      border-top-color: var(--fill-color);\n",
              "      border-right-color: var(--fill-color);\n",
              "    }\n",
              "    40% {\n",
              "      border-color: transparent;\n",
              "      border-right-color: var(--fill-color);\n",
              "      border-top-color: var(--fill-color);\n",
              "    }\n",
              "    60% {\n",
              "      border-color: transparent;\n",
              "      border-right-color: var(--fill-color);\n",
              "    }\n",
              "    80% {\n",
              "      border-color: transparent;\n",
              "      border-right-color: var(--fill-color);\n",
              "      border-bottom-color: var(--fill-color);\n",
              "    }\n",
              "    90% {\n",
              "      border-color: transparent;\n",
              "      border-bottom-color: var(--fill-color);\n",
              "    }\n",
              "  }\n",
              "</style>\n",
              "\n",
              "  <script>\n",
              "    async function quickchart(key) {\n",
              "      const quickchartButtonEl =\n",
              "        document.querySelector('#' + key + ' button');\n",
              "      quickchartButtonEl.disabled = true;  // To prevent multiple clicks.\n",
              "      quickchartButtonEl.classList.add('colab-df-spinner');\n",
              "      try {\n",
              "        const charts = await google.colab.kernel.invokeFunction(\n",
              "            'suggestCharts', [key], {});\n",
              "      } catch (error) {\n",
              "        console.error('Error during call to suggestCharts:', error);\n",
              "      }\n",
              "      quickchartButtonEl.classList.remove('colab-df-spinner');\n",
              "      quickchartButtonEl.classList.add('colab-df-quickchart-complete');\n",
              "    }\n",
              "    (() => {\n",
              "      let quickchartButtonEl =\n",
              "        document.querySelector('#df-f03a1976-b162-4635-b6d4-f3672b36dfe4 button');\n",
              "      quickchartButtonEl.style.display =\n",
              "        google.colab.kernel.accessAllowed ? 'block' : 'none';\n",
              "    })();\n",
              "  </script>\n",
              "</div>\n",
              "    </div>\n",
              "  </div>\n"
            ],
            "application/vnd.google.colaboratory.intrinsic+json": {
              "type": "dataframe",
              "variable_name": "df_input",
              "summary": "{\n  \"name\": \"df_input\",\n  \"rows\": 5555,\n  \"fields\": [\n    {\n      \"column\": \"time\",\n      \"properties\": {\n        \"dtype\": \"date\",\n        \"min\": \"2024-12-13 00:00:01\",\n        \"max\": \"2024-12-13 23:59:54\",\n        \"num_unique_values\": 5555,\n        \"samples\": [\n          \"2024-12-13 20:49:55\",\n          \"2024-12-13 20:00:01\",\n          \"2024-12-13 12:07:44\"\n        ],\n        \"semantic_type\": \"\",\n        \"description\": \"\"\n      }\n    },\n    {\n      \"column\": \"value\",\n      \"properties\": {\n        \"dtype\": \"number\",\n        \"std\": 17.288724591452212,\n        \"min\": 0.0,\n        \"max\": 334.06146,\n        \"num_unique_values\": 3244,\n        \"samples\": [\n          0.0063602543,\n          3.086953,\n          15.031958\n        ],\n        \"semantic_type\": \"\",\n        \"description\": \"\"\n      }\n    }\n  ]\n}"
            }
          },
          "metadata": {},
          "execution_count": 76
        }
      ],
      "source": [
        "df_input.head(10)"
      ]
    },
    {
      "cell_type": "code",
      "execution_count": 11,
      "metadata": {
        "id": "IdpX7AwzqxII"
      },
      "outputs": [],
      "source": [
        "# Если есть skip_window, то ВР группируется по этому параметру.\n",
        "# Пример есть 3 наблюдения за 1 минуту (1 min 12 sec: 5) (1 min 36 sec: 7) (1 min 47 sec: 9)\n",
        "# Три наблюдения группируется в одно (1 min 0 sec: 7)\n",
        "df_down_sampled = model.downsample(df_input, smoothing_window = 20*60, skip_window = '60s')"
      ]
    },
    {
      "cell_type": "code",
      "execution_count": 12,
      "metadata": {
        "id": "sik1O9HWqxII"
      },
      "outputs": [],
      "source": [
        "df_down_sampled['timedate'] = df_down_sampled['time']"
      ]
    },
    {
      "cell_type": "code",
      "execution_count": 13,
      "metadata": {
        "id": "dAxfb0YoqxIJ"
      },
      "outputs": [],
      "source": [
        "df_down_sampled['time'] = pd.to_timedelta(df_down_sampled.time - df_down_sampled.time.iloc[0], unit='s')"
      ]
    },
    {
      "cell_type": "markdown",
      "source": [
        "Выбираем какие статистики хотим извлечь из ВР\n",
        "\n",
        "В методе _fit_linear_regression можно настраивать какие статистики собирать (В будущем есть смысл использовать методы сбора статистик, например, из tsfresh как аргументы)"
      ],
      "metadata": {
        "id": "HCdqMRuPWErB"
      }
    },
    {
      "cell_type": "markdown",
      "source": [
        "Теперь есть выбор использовать только alpha или другие статистики"
      ],
      "metadata": {
        "id": "MtMMjKMRYX3e"
      }
    },
    {
      "cell_type": "code",
      "execution_count": 27,
      "metadata": {
        "colab": {
          "base_uri": "https://localhost:8080/"
        },
        "outputId": "25ce8525-2aa7-4c7a-a89f-e83cfe9b7584",
        "id": "MvHCpCh4qxIJ"
      },
      "outputs": [
        {
          "output_type": "stream",
          "name": "stdout",
          "text": [
            "CPU times: user 4.81 s, sys: 19.4 ms, total: 4.83 s\n",
            "Wall time: 4.87 s\n"
          ]
        }
      ],
      "source": [
        "#(X, labels, clustered_ts_times, clustered_ts_values, clustered_stats)\n",
        "%%time\n",
        "data, cluster_labels, clustered_times, clustered_values, clustered_stats = model.fit_mean_shift(df_down_sampled, stats_to_extract = ['alpha', 'variance'])"
      ]
    },
    {
      "cell_type": "code",
      "source": [
        "clustered_stats"
      ],
      "metadata": {
        "colab": {
          "base_uri": "https://localhost:8080/"
        },
        "id": "AOjiupIhrY_7",
        "outputId": "2d1cfb34-720e-40dc-f3a8-cf30d8831524"
      },
      "execution_count": 28,
      "outputs": [
        {
          "output_type": "execute_result",
          "data": {
            "text/plain": [
              "{np.int64(0): {'alpha': np.float64(-3.5955902993876135e-05),\n",
              "  'variance': np.float64(2.599887778766541)},\n",
              " np.int64(1): {'alpha': np.float64(0.0004146853068516877),\n",
              "  'variance': np.float64(9.801057893334399)},\n",
              " np.int64(2): {'alpha': np.float64(-0.000247693066272014),\n",
              "  'variance': np.float64(8.570470091300672)}}"
            ]
          },
          "metadata": {},
          "execution_count": 28
        }
      ]
    },
    {
      "cell_type": "code",
      "source": [
        "pd.DataFrame(clustered_stats).T.to_numpy()"
      ],
      "metadata": {
        "colab": {
          "base_uri": "https://localhost:8080/"
        },
        "id": "39JPRN8HVqUf",
        "outputId": "105912fc-d4e4-411c-9f91-b102552dac96"
      },
      "execution_count": 29,
      "outputs": [
        {
          "output_type": "execute_result",
          "data": {
            "text/plain": [
              "array([[-3.59559030e-05,  2.59988778e+00],\n",
              "       [ 4.14685307e-04,  9.80105789e+00],\n",
              "       [-2.47693066e-04,  8.57047009e+00]])"
            ]
          },
          "metadata": {},
          "execution_count": 29
        }
      ]
    },
    {
      "cell_type": "markdown",
      "source": [
        "## Обучение с учителем"
      ],
      "metadata": {
        "id": "LEAEJZeEX6Oo"
      }
    },
    {
      "cell_type": "code",
      "source": [
        "x_train = pd.DataFrame(clustered_stats).T.to_numpy()\n",
        "\n",
        "#Отметили кластер 0 как аномалию, и кластер 1 как норму (метки: 1 - аномалия, 0 - норм)\n",
        "labels = {\n",
        "    0: 0,\n",
        "    1: 1,\n",
        "    2: 0,\n",
        "}\n",
        "\n",
        "labels = np.array(list(labels.values()))\n",
        "y_train = labels"
      ],
      "metadata": {
        "id": "DPX5O_Mzut-l"
      },
      "execution_count": 30,
      "outputs": []
    },
    {
      "cell_type": "markdown",
      "source": [
        "### Простое \"обучение\""
      ],
      "metadata": {
        "id": "gj17AndpYe4c"
      }
    },
    {
      "cell_type": "markdown",
      "source": [
        "Модель возвращает пороги по которым можно отделять нормальный сигнал от аномального. (Пороги для каждой фичи вычисляются в не зависимости от остальных фич - \"будто бы других столбцов нет\")\n",
        "Больше подходит для тестирований и проверки идей"
      ],
      "metadata": {
        "id": "4RV1xFu6YjrK"
      }
    },
    {
      "cell_type": "code",
      "source": [
        "best_thresholds = model.evaluate_thresholds(x_train, y_train, [\"alpha\",\"variance\"])"
      ],
      "metadata": {
        "id": "LKkMF3cYZEvp"
      },
      "execution_count": 35,
      "outputs": []
    },
    {
      "cell_type": "code",
      "source": [
        "best_thresholds"
      ],
      "metadata": {
        "colab": {
          "base_uri": "https://localhost:8080/"
        },
        "id": "h3JVXvSdZ7xW",
        "outputId": "ac445a78-42f1-4a97-d3d1-dcfabfeb4525"
      },
      "execution_count": 36,
      "outputs": [
        {
          "output_type": "execute_result",
          "data": {
            "text/plain": [
              "array([1.89364708e-04, 9.18576384e+00])"
            ]
          },
          "metadata": {},
          "execution_count": 36
        }
      ]
    },
    {
      "cell_type": "code",
      "source": [
        "# alpha\n",
        "print(\"Predicted:\", (x_train[:,0] > best_thresholds[0]).astype(int), \"\\n\")\n",
        "print(\"True:\", y_train)"
      ],
      "metadata": {
        "colab": {
          "base_uri": "https://localhost:8080/"
        },
        "id": "OjZ0Z-SGaAuK",
        "outputId": "4e418678-d42a-4fa4-b1ff-3188bed0ec92"
      },
      "execution_count": 43,
      "outputs": [
        {
          "output_type": "stream",
          "name": "stdout",
          "text": [
            "Predicted: [0 1 0] \n",
            "\n",
            "True: [0 1 0]\n"
          ]
        }
      ]
    },
    {
      "cell_type": "code",
      "source": [
        "# variance\n",
        "print(\"Predicted:\", (x_train[:,1] > best_thresholds[1]).astype(int), \"\\n\")\n",
        "print(\"True:\", y_train)"
      ],
      "metadata": {
        "colab": {
          "base_uri": "https://localhost:8080/"
        },
        "id": "uY4jW0fmajqL",
        "outputId": "038857cd-0236-4970-a4d6-6d118271ca68"
      },
      "execution_count": 44,
      "outputs": [
        {
          "output_type": "stream",
          "name": "stdout",
          "text": [
            "Predicted: [0 1 0] \n",
            "\n",
            "True: [0 1 0]\n"
          ]
        }
      ]
    },
    {
      "cell_type": "markdown",
      "source": [
        "Нужно когда наблюдений мало.\n",
        "Или для проверки идей, так как с такиф форматом данных намного проще работать, чем с весами в моделе"
      ],
      "metadata": {
        "id": "kBxk4iPBatkz"
      }
    },
    {
      "cell_type": "markdown",
      "source": [
        "### Классификатор аномалий"
      ],
      "metadata": {
        "id": "H6HMMH7Ua7oo"
      }
    },
    {
      "cell_type": "markdown",
      "source": [
        "Используется когда данных много (больше подходит для прода)"
      ],
      "metadata": {
        "id": "k79nyOYDzWJc"
      }
    },
    {
      "cell_type": "code",
      "source": [
        "x_train = np.array([[-3.595e-05, 2.5998], [0.4146, 9.80], [-0.000247, 8.5704], [7e-7, 6.5704], [7e-5, 5], [3e-5, 3], [7e-5, 6], [8e-5, 7], [2e-3, 9], [9e-1,14], [9,12]])\n",
        "labels = {\n",
        "    0: 0,\n",
        "    1: 1,\n",
        "    2: 0,\n",
        "    3: 0,\n",
        "    4: 0,\n",
        "    5: 0,\n",
        "    6: 0,\n",
        "    7: 0,\n",
        "    8: 0,\n",
        "    9: 1,\n",
        "    10: 1,\n",
        "}\n",
        "y_train = np.array(list(labels.values()))"
      ],
      "metadata": {
        "id": "z09rA8z3bCT5"
      },
      "execution_count": 50,
      "outputs": []
    },
    {
      "cell_type": "code",
      "source": [
        "model.train_anomaly_classifier(x_train, y_train)"
      ],
      "metadata": {
        "id": "SCdKjj-iCkt-"
      },
      "execution_count": 54,
      "outputs": []
    },
    {
      "cell_type": "code",
      "source": [
        "# Аномалии: 1 1\n",
        "model.predict_anomaly_classifier([[3,5], [3,1]])"
      ],
      "metadata": {
        "colab": {
          "base_uri": "https://localhost:8080/"
        },
        "id": "ZeVFpjxuc4EF",
        "outputId": "3a4ae8e7-a1d6-4035-d0cb-32524317214a"
      },
      "execution_count": 60,
      "outputs": [
        {
          "output_type": "execute_result",
          "data": {
            "text/plain": [
              "array([1, 1])"
            ]
          },
          "metadata": {},
          "execution_count": 60
        }
      ]
    },
    {
      "cell_type": "code",
      "source": [
        "#Не аномалии: 0 0\n",
        "model.predict_anomaly_classifier([[1e-6,9], [1e-6,1]])"
      ],
      "metadata": {
        "colab": {
          "base_uri": "https://localhost:8080/"
        },
        "id": "N34xA9g-dBnQ",
        "outputId": "eb3cebb9-eba1-4bda-bbfd-8f16d5b3266c"
      },
      "execution_count": 72,
      "outputs": [
        {
          "output_type": "execute_result",
          "data": {
            "text/plain": [
              "array([0, 0])"
            ]
          },
          "metadata": {},
          "execution_count": 72
        }
      ]
    },
    {
      "cell_type": "markdown",
      "source": [
        "Даже на таком небольшом наборе данных модель уловила что alpha важнее чем variance"
      ],
      "metadata": {
        "id": "agGCHdxIdXJi"
      }
    },
    {
      "cell_type": "code",
      "source": [
        "model.classifier.feature_importances_"
      ],
      "metadata": {
        "colab": {
          "base_uri": "https://localhost:8080/"
        },
        "id": "exg56M6Cdkwx",
        "outputId": "8d0404c0-96d8-4275-cbf3-92082e1d8fa5"
      },
      "execution_count": 67,
      "outputs": [
        {
          "output_type": "execute_result",
          "data": {
            "text/plain": [
              "array([1., 0.], dtype=float32)"
            ]
          },
          "metadata": {},
          "execution_count": 67
        }
      ]
    },
    {
      "cell_type": "markdown",
      "source": [
        "## Обучение без учителя"
      ],
      "metadata": {
        "id": "6cNpja-5em72"
      }
    },
    {
      "cell_type": "markdown",
      "source": [
        "! Будет основано на выявлении выбросов и дрейфе данных"
      ],
      "metadata": {
        "id": "va9PsFvVepl9"
      }
    },
    {
      "cell_type": "markdown",
      "source": [
        "### Выявлении выбросов"
      ],
      "metadata": {
        "id": "BkcKBppIhHvW"
      }
    },
    {
      "cell_type": "markdown",
      "source": [
        "Если какая-то одна или несколько статистик резко изменяются"
      ],
      "metadata": {
        "id": "m1PNewjgivkG"
      }
    },
    {
      "cell_type": "code",
      "source": [
        "np.random.seed(42)"
      ],
      "metadata": {
        "id": "GhdMOV0ylesm"
      },
      "execution_count": 118,
      "outputs": []
    },
    {
      "cell_type": "code",
      "source": [
        "time = np.arange(0, 300)\n",
        "old_data = 0.1*np.sin(time / 10) + np.random.normal(scale=0.5, size=time.shape)"
      ],
      "metadata": {
        "id": "nANwmoFpjobz"
      },
      "execution_count": 119,
      "outputs": []
    },
    {
      "cell_type": "code",
      "source": [
        "pd.Series(old_data).plot()"
      ],
      "metadata": {
        "colab": {
          "base_uri": "https://localhost:8080/",
          "height": 447
        },
        "id": "OwMLjFEyjwq7",
        "outputId": "9d7ae666-c7ae-44cf-d80b-abc446635635"
      },
      "execution_count": 121,
      "outputs": [
        {
          "output_type": "execute_result",
          "data": {
            "text/plain": [
              "<Axes: >"
            ]
          },
          "metadata": {},
          "execution_count": 121
        },
        {
          "output_type": "display_data",
          "data": {
            "text/plain": [
              "<Figure size 640x480 with 1 Axes>"
            ],
            "image/png": "[encoded data removed]"
          },
          "metadata": {}
        }
      ]
    },
    {
      "cell_type": "code",
      "source": [
        "np.random.seed(42)\n",
        "\n",
        "new_time = np.arange(0, 30)\n",
        "new_data = 0.1*np.sin(new_time / 10) + np.random.normal(scale=0.5, size=new_time.shape)\n",
        "# Добавлен резкий переход\n",
        "new_data[-10:] += 0.7"
      ],
      "metadata": {
        "id": "7o7y80qCj56z"
      },
      "execution_count": 130,
      "outputs": []
    },
    {
      "cell_type": "code",
      "source": [
        "pd.Series(new_data).plot()"
      ],
      "metadata": {
        "colab": {
          "base_uri": "https://localhost:8080/",
          "height": 447
        },
        "id": "2tvnQMfIkfzn",
        "outputId": "055b9e82-4706-40c1-86ad-3605c8acc360"
      },
      "execution_count": 131,
      "outputs": [
        {
          "output_type": "execute_result",
          "data": {
            "text/plain": [
              "<Axes: >"
            ]
          },
          "metadata": {},
          "execution_count": 131
        },
        {
          "output_type": "display_data",
          "data": {
            "text/plain": [
              "<Figure size 640x480 with 1 Axes>"
            ],
            "image/png": "[encoded data removed]"
          },
          "metadata": {}
        }
      ]
    },
    {
      "cell_type": "code",
      "source": [
        "new_data.shape"
      ],
      "metadata": {
        "colab": {
          "base_uri": "https://localhost:8080/"
        },
        "id": "LkbUwNtZquhM",
        "outputId": "23ba4c1d-6d92-4e02-e1ad-cd86417cebf1"
      },
      "execution_count": 150,
      "outputs": [
        {
          "output_type": "execute_result",
          "data": {
            "text/plain": [
              "(30,)"
            ]
          },
          "metadata": {},
          "execution_count": 150
        }
      ]
    },
    {
      "cell_type": "code",
      "source": [
        "new_data.reshape(-1, 1).shape"
      ],
      "metadata": {
        "colab": {
          "base_uri": "https://localhost:8080/"
        },
        "id": "haTtS2kxqyQw",
        "outputId": "3a566b63-4fda-4d68-c194-0b5b655a26b6"
      },
      "execution_count": 152,
      "outputs": [
        {
          "output_type": "execute_result",
          "data": {
            "text/plain": [
              "(30, 1)"
            ]
          },
          "metadata": {},
          "execution_count": 152
        }
      ]
    },
    {
      "cell_type": "code",
      "source": [
        "# stats_names только для отчетности чтобы сохранялось какие именно фичи проверяли\n",
        "result = model.detect_anomalies(old_data.reshape(-1, 1), new_data.reshape(-1, 1), contamination=0.05)"
      ],
      "metadata": {
        "id": "qHkHZS7xjNL2"
      },
      "execution_count": 158,
      "outputs": []
    },
    {
      "cell_type": "code",
      "source": [
        "print(result)"
      ],
      "metadata": {
        "colab": {
          "base_uri": "https://localhost:8080/"
        },
        "id": "qC-38ScoqWu1",
        "outputId": "92036177-06d7-4b27-e338-52684a1ab01c"
      },
      "execution_count": 159,
      "outputs": [
        {
          "output_type": "stream",
          "name": "stdout",
          "text": [
            "{'anomalies': array([False, False, False, False, False, False, False, False, False,\n",
            "       False, False, False, False, False, False, False, False, False,\n",
            "       False, False,  True, False, False, False, False, False, False,\n",
            "       False, False, False]), 'stats': {'n_anomalies': np.int64(1), 'method': 'isolation_forest', 'contamination': 0.05}}\n"
          ]
        }
      ]
    },
    {
      "cell_type": "code",
      "source": [
        "# stats_names только для отчетности чтобы сохранялось какие именно фичи проверяли\n",
        "result = model.detect_anomalies(old_data.reshape(-1, 1), new_data.reshape(-1, 1), stats_names = ['alpha'], contamination=0.5)"
      ],
      "metadata": {
        "id": "vhlVQfmwrbwv"
      },
      "execution_count": 175,
      "outputs": []
    },
    {
      "cell_type": "code",
      "source": [
        "print(result)"
      ],
      "metadata": {
        "colab": {
          "base_uri": "https://localhost:8080/"
        },
        "id": "BSipSHBgrcaM",
        "outputId": "f281e190-14af-452e-e738-ac0eb8868aba"
      },
      "execution_count": 176,
      "outputs": [
        {
          "output_type": "stream",
          "name": "stdout",
          "text": [
            "{'anomalies': array([False,  True, False,  True,  True, False,  True,  True, False,\n",
            "       False, False, False, False,  True,  True,  True,  True, False,\n",
            "       False,  True,  True,  True,  True, False,  True,  True, False,\n",
            "        True,  True,  True]), 'stats': {'n_anomalies': np.int64(18), 'method': 'isolation_forest', 'contamination': 0.5}}\n"
          ]
        }
      ]
    },
    {
      "cell_type": "markdown",
      "source": [
        "Нужно будет порог подбирать для нормальной работы..."
      ],
      "metadata": {
        "id": "m7b0cEmUrETw"
      }
    },
    {
      "cell_type": "markdown",
      "source": [
        "### Дрейф данных"
      ],
      "metadata": {
        "id": "O-Vdu1wIirya"
      }
    },
    {
      "cell_type": "code",
      "source": [
        "np.random.seed(42)\n",
        "normal_time = np.arange(0, 300)\n",
        "normal_data = 0.1*np.sin(normal_time / 10) + np.random.normal(scale=0.5, size=normal_time.shape)\n"
      ],
      "metadata": {
        "id": "Ah1w3lA4uW9e"
      },
      "execution_count": 170,
      "outputs": []
    },
    {
      "cell_type": "code",
      "source": [
        "pd.Series(normal_data).plot()"
      ],
      "metadata": {
        "colab": {
          "base_uri": "https://localhost:8080/",
          "height": 447
        },
        "id": "tQM73BuOunz9",
        "outputId": "74353af6-c660-49e8-cf97-c0b84715df94"
      },
      "execution_count": 172,
      "outputs": [
        {
          "output_type": "execute_result",
          "data": {
            "text/plain": [
              "<Axes: >"
            ]
          },
          "metadata": {},
          "execution_count": 172
        },
        {
          "output_type": "display_data",
          "data": {
            "text/plain": [
              "<Figure size 640x480 with 1 Axes>"
            ],
            "image/png": "[encoded data removed]"
          },
          "metadata": {}
        }
      ]
    },
    {
      "cell_type": "markdown",
      "source": [
        "Предположим что произошел плавный переход"
      ],
      "metadata": {
        "id": "0g6Pahhmus6C"
      }
    },
    {
      "cell_type": "code",
      "source": [
        "np.random.seed(42)\n",
        "drift_time = np.arange(0, 300)\n",
        "drift_data = 0.1*np.sin(time / 10) + np.random.normal(scale=0.5, size=time.shape)\n",
        "\n",
        "drift_data[100:] += (np.array(list(range(0, 200))) / 40)\n"
      ],
      "metadata": {
        "id": "mKCcPZ39vfML"
      },
      "execution_count": 219,
      "outputs": []
    },
    {
      "cell_type": "code",
      "source": [
        "pd.Series(drift_data).plot()"
      ],
      "metadata": {
        "colab": {
          "base_uri": "https://localhost:8080/",
          "height": 447
        },
        "id": "nAFYz2dusDh-",
        "outputId": "0a9a87d4-f535-45ec-e22d-6544aa267345"
      },
      "execution_count": 220,
      "outputs": [
        {
          "output_type": "execute_result",
          "data": {
            "text/plain": [
              "<Axes: >"
            ]
          },
          "metadata": {},
          "execution_count": 220
        },
        {
          "output_type": "display_data",
          "data": {
            "text/plain": [
              "<Figure size 640x480 with 1 Axes>"
            ],
            "image/png": "[encoded data removed]"
          },
          "metadata": {}
        }
      ]
    },
    {
      "cell_type": "code",
      "source": [
        "model.detect_stats_drift(normal_data.reshape(-1, 1), drift_data.reshape(-1, 1), stats_names = ['alpha'])"
      ],
      "metadata": {
        "colab": {
          "base_uri": "https://localhost:8080/"
        },
        "id": "Yb43whNGu3Ll",
        "outputId": "d5664043-e1c1-489c-8831-da62a33d27da"
      },
      "execution_count": 221,
      "outputs": [
        {
          "output_type": "execute_result",
          "data": {
            "text/plain": [
              "{'alpha': {'drift_detected': True,\n",
              "  'stats': {'current_mean': np.float64(1.6585405378705986),\n",
              "   'current_std': np.float64(1.7521903110493804),\n",
              "   'historical_mean': np.float64(0.035934805499166694),\n",
              "   'historical_std': np.float64(0.5465150659656033)}}}"
            ]
          },
          "metadata": {},
          "execution_count": 221
        }
      ]
    },
    {
      "cell_type": "markdown",
      "source": [
        "Если данные не менялись"
      ],
      "metadata": {
        "id": "V_JBLQn2vm09"
      }
    },
    {
      "cell_type": "code",
      "source": [
        "np.random.seed(42)\n",
        "drift_time = np.arange(0, 300)\n",
        "drift_data = 0.1*np.sin(time / 10) + np.random.normal(scale=0.5, size=time.shape)"
      ],
      "metadata": {
        "id": "6IG4gHPBvwZM"
      },
      "execution_count": 196,
      "outputs": []
    },
    {
      "cell_type": "code",
      "source": [
        "pd.Series(drift_data).plot()"
      ],
      "metadata": {
        "colab": {
          "base_uri": "https://localhost:8080/",
          "height": 447
        },
        "id": "961XYtPMv0mU",
        "outputId": "b19818a0-685d-49b0-d379-c30f8cdba96c"
      },
      "execution_count": 204,
      "outputs": [
        {
          "output_type": "execute_result",
          "data": {
            "text/plain": [
              "<Axes: >"
            ]
          },
          "metadata": {},
          "execution_count": 204
        },
        {
          "output_type": "display_data",
          "data": {
            "text/plain": [
              "<Figure size 640x480 with 1 Axes>"
            ],
            "image/png": "[encoded data removed]"
          },
          "metadata": {}
        }
      ]
    },
    {
      "cell_type": "code",
      "source": [
        "model.detect_stats_drift(normal_data.reshape(-1, 1), drift_data.reshape(-1, 1), stats_names = ['alpha'])"
      ],
      "metadata": {
        "colab": {
          "base_uri": "https://localhost:8080/"
        },
        "id": "sr4yx3PbvmKL",
        "outputId": "5225f1ce-4bcf-4208-e8dd-21fc46e5decf"
      },
      "execution_count": 207,
      "outputs": [
        {
          "output_type": "execute_result",
          "data": {
            "text/plain": [
              "{'alpha': {'drift_detected': False,\n",
              "  'stats': {'current_mean': np.float64(0.0002072045372650096),\n",
              "   'current_std': np.float64(0.492917012536287),\n",
              "   'historical_mean': np.float64(0.035934805499166694),\n",
              "   'historical_std': np.float64(0.5465150659656033)}}}"
            ]
          },
          "metadata": {},
          "execution_count": 207
        }
      ]
    },
    {
      "cell_type": "markdown",
      "source": [
        "Со износом оборудования статистики будут меняться отклоняться от номинального значения, этот тест нужен для того чтобы такие ситуации отлавливать"
      ],
      "metadata": {
        "id": "zTtufNi3yQjT"
      }
    },
    {
      "cell_type": "markdown",
      "source": [
        "1. Стоит добавить сбор статистик через tsfresh в _fit_linear_regression\n",
        "2. Для проверки отклонения статистик можно использовать ruptures (change point detection)"
      ],
      "metadata": {
        "id": "KbfgJ-73zqKj"
      }
    }
  ]
}